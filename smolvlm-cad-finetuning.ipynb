{
 "cells": [
  {
   "cell_type": "code",
   "execution_count": null,
   "metadata": {
    "execution": {
     "iopub.execute_input": "2025-06-28T11:10:07.945241Z",
     "iopub.status.busy": "2025-06-28T11:10:07.944602Z",
     "iopub.status.idle": "2025-06-28T11:10:12.401565Z",
     "shell.execute_reply": "2025-06-28T11:10:12.400859Z",
     "shell.execute_reply.started": "2025-06-28T11:10:07.945215Z"
    },
    "id": "XId8uHoW9dpI",
    "trusted": true
   },
   "outputs": [],
   "source": [
    "!pip install fsspec==2023.9.2 --quiet"
   ]
  },
  {
   "cell_type": "code",
   "execution_count": null,
   "metadata": {
    "colab": {
     "base_uri": "https://localhost:8080/"
    },
    "execution": {
     "iopub.execute_input": "2025-06-28T11:10:12.403325Z",
     "iopub.status.busy": "2025-06-28T11:10:12.403092Z",
     "iopub.status.idle": "2025-06-28T11:10:13.185730Z",
     "shell.execute_reply": "2025-06-28T11:10:13.185082Z",
     "shell.execute_reply.started": "2025-06-28T11:10:12.403301Z"
    },
    "id": "W4fwqLPV9ehC",
    "outputId": "f0f65daf-e702-457f-ebf2-8a7b75fec20c",
    "trusted": true
   },
   "outputs": [],
   "source": [
    "!huggingface-cli login --token <token-here>"
   ]
  },
  {
   "cell_type": "code",
   "execution_count": null,
   "metadata": {
    "execution": {
     "iopub.execute_input": "2025-06-28T11:10:13.186741Z",
     "iopub.status.busy": "2025-06-28T11:10:13.186545Z",
     "iopub.status.idle": "2025-06-28T11:10:42.424205Z",
     "shell.execute_reply": "2025-06-28T11:10:42.423328Z",
     "shell.execute_reply.started": "2025-06-28T11:10:13.186717Z"
    },
    "id": "8Gn_uZZ45hc8",
    "trusted": true
   },
   "outputs": [],
   "source": [
    "from transformers import AutoTokenizer, VisionEncoderDecoderModel, ViTImageProcessor, ViTModel\n",
    "from transformers import RoFormerForCausalLM, RoFormerConfig\n",
    "from transformers import TrainingArguments, Trainer\n",
    "from datasets import load_dataset\n",
    "import torch"
   ]
  },
  {
   "cell_type": "code",
   "execution_count": null,
   "metadata": {
    "execution": {
     "iopub.execute_input": "2025-06-28T11:10:42.426417Z",
     "iopub.status.busy": "2025-06-28T11:10:42.425989Z",
     "iopub.status.idle": "2025-06-28T11:10:42.430281Z",
     "shell.execute_reply": "2025-06-28T11:10:42.429338Z",
     "shell.execute_reply.started": "2025-06-28T11:10:42.426399Z"
    },
    "trusted": true
   },
   "outputs": [],
   "source": [
    "tokenizer_path = 'openai-community/gpt2'"
   ]
  },
  {
   "cell_type": "code",
   "execution_count": null,
   "metadata": {
    "execution": {
     "iopub.execute_input": "2025-06-28T11:10:42.431403Z",
     "iopub.status.busy": "2025-06-28T11:10:42.431150Z",
     "iopub.status.idle": "2025-06-28T11:10:44.818153Z",
     "shell.execute_reply": "2025-06-28T11:10:44.817364Z",
     "shell.execute_reply.started": "2025-06-28T11:10:42.431380Z"
    },
    "id": "bJzdi0Hg5irj",
    "trusted": true
   },
   "outputs": [],
   "source": [
    "vision_encoder_id = \"google/vit-base-patch16-224-in21k\"\n",
    "\n",
    "vision_encoder = ViTModel.from_pretrained(vision_encoder_id)"
   ]
  },
  {
   "cell_type": "code",
   "execution_count": null,
   "metadata": {
    "execution": {
     "iopub.execute_input": "2025-06-28T11:10:44.819177Z",
     "iopub.status.busy": "2025-06-28T11:10:44.818966Z",
     "iopub.status.idle": "2025-06-28T11:10:46.865523Z",
     "shell.execute_reply": "2025-06-28T11:10:46.864736Z",
     "shell.execute_reply.started": "2025-06-28T11:10:44.819160Z"
    },
    "trusted": true
   },
   "outputs": [],
   "source": [
    "tokenizer = AutoTokenizer.from_pretrained(tokenizer_path)\n",
    "\n",
    "tokenizer.pad_token = tokenizer.eos_token\n",
    "\n",
    "tokenizer.eos_token"
   ]
  },
  {
   "cell_type": "code",
   "execution_count": null,
   "metadata": {
    "execution": {
     "iopub.execute_input": "2025-06-28T11:10:46.866651Z",
     "iopub.status.busy": "2025-06-28T11:10:46.866341Z",
     "iopub.status.idle": "2025-06-28T11:10:48.804031Z",
     "shell.execute_reply": "2025-06-28T11:10:48.803210Z",
     "shell.execute_reply.started": "2025-06-28T11:10:46.866626Z"
    },
    "trusted": true
   },
   "outputs": [],
   "source": [
    "decoder_config = RoFormerConfig(\n",
    "    vocab_size=len(tokenizer),\n",
    "    hidden_size=512,\n",
    "    num_hidden_layers=12,\n",
    "    num_attention_layers=8,\n",
    "    num_attention_heads=4,\n",
    "    intermediate_size=1024,\n",
    "    hidden_dropout_prob=0.1,\n",
    "    attention_probs_dropout_prob=0.3,\n",
    "    max_position_embeddings=2048,\n",
    "    type_vocab_size=1,\n",
    "    pad_token_id=tokenizer.eos_token_id,\n",
    "    is_decoder=True,\n",
    "    add_cross_attention=True\n",
    ")\n",
    "\n",
    "decoder = RoFormerForCausalLM(decoder_config)"
   ]
  },
  {
   "cell_type": "code",
   "execution_count": null,
   "metadata": {
    "execution": {
     "iopub.execute_input": "2025-06-28T11:10:48.805273Z",
     "iopub.status.busy": "2025-06-28T11:10:48.804877Z",
     "iopub.status.idle": "2025-06-28T11:10:49.099759Z",
     "shell.execute_reply": "2025-06-28T11:10:49.099031Z",
     "shell.execute_reply.started": "2025-06-28T11:10:48.805237Z"
    },
    "id": "W1puO9yV8EXJ",
    "trusted": true
   },
   "outputs": [],
   "source": [
    "image_processor = ViTImageProcessor.from_pretrained(vision_encoder_id)"
   ]
  },
  {
   "cell_type": "code",
   "execution_count": null,
   "metadata": {
    "execution": {
     "iopub.execute_input": "2025-06-28T11:10:49.101072Z",
     "iopub.status.busy": "2025-06-28T11:10:49.100699Z",
     "iopub.status.idle": "2025-06-28T11:10:49.110300Z",
     "shell.execute_reply": "2025-06-28T11:10:49.109636Z",
     "shell.execute_reply.started": "2025-06-28T11:10:49.101052Z"
    },
    "id": "SCmazePy8M0t",
    "trusted": true
   },
   "outputs": [],
   "source": [
    "model = VisionEncoderDecoderModel(encoder=vision_encoder, decoder=decoder)\n",
    "\n",
    "model.config.decoder.is_decoder = True\n",
    "model.config.decoder.add_cross_attention = True\n",
    "model.config.pad_token_id = tokenizer.pad_token_id\n",
    "model.config.decoder_start_token_id = tokenizer.pad_token_id"
   ]
  },
  {
   "cell_type": "code",
   "execution_count": null,
   "metadata": {
    "execution": {
     "iopub.execute_input": "2025-06-28T11:10:49.112894Z",
     "iopub.status.busy": "2025-06-28T11:10:49.112688Z",
     "iopub.status.idle": "2025-06-28T11:10:49.127175Z",
     "shell.execute_reply": "2025-06-28T11:10:49.126597Z",
     "shell.execute_reply.started": "2025-06-28T11:10:49.112879Z"
    },
    "trusted": true
   },
   "outputs": [],
   "source": [
    "model"
   ]
  },
  {
   "cell_type": "code",
   "execution_count": null,
   "metadata": {
    "colab": {
     "base_uri": "https://localhost:8080/"
    },
    "execution": {
     "iopub.execute_input": "2025-06-28T11:10:49.128041Z",
     "iopub.status.busy": "2025-06-28T11:10:49.127864Z",
     "iopub.status.idle": "2025-06-28T11:10:56.854461Z",
     "shell.execute_reply": "2025-06-28T11:10:56.853718Z",
     "shell.execute_reply.started": "2025-06-28T11:10:49.128027Z"
    },
    "id": "Sn7p1wiX8WNK",
    "outputId": "738acda6-ac21-4401-f1ab-60916e4fa8b6",
    "trusted": true
   },
   "outputs": [],
   "source": [
    "ds = load_dataset(\"CADCODER/GenCAD-Code\", num_proc=4).remove_columns(['token_count', \"deepcad_id\", \"hundred_subset\", \"prompt\"])\n",
    "\n",
    "ds"
   ]
  },
  {
   "cell_type": "code",
   "execution_count": null,
   "metadata": {
    "execution": {
     "iopub.execute_input": "2025-06-28T11:16:09.516302Z",
     "iopub.status.busy": "2025-06-28T11:16:09.515712Z",
     "iopub.status.idle": "2025-06-28T11:16:09.519802Z",
     "shell.execute_reply": "2025-06-28T11:16:09.519150Z",
     "shell.execute_reply.started": "2025-06-28T11:16:09.516279Z"
    },
    "trusted": true
   },
   "outputs": [],
   "source": [
    "def filter_queries_by_length(example):\n",
    "    # Work on small subset of data for POC\n",
    "    text = example['cadquery']\n",
    "\n",
    "    tokens = tokenizer(text)\n",
    "    return len(tokens[0]) <= 1022"
   ]
  },
  {
   "cell_type": "code",
   "execution_count": null,
   "metadata": {
    "execution": {
     "iopub.execute_input": "2025-06-28T11:16:41.260929Z",
     "iopub.status.busy": "2025-06-28T11:16:41.260641Z",
     "iopub.status.idle": "2025-06-28T11:16:41.297566Z",
     "shell.execute_reply": "2025-06-28T11:16:41.297049Z",
     "shell.execute_reply.started": "2025-06-28T11:16:41.260905Z"
    },
    "id": "EOGDOo1X_Cm_",
    "trusted": true
   },
   "outputs": [],
   "source": [
    "train_data = ds['train'].select(range(4096)).filter(filter_queries_by_length) "
   ]
  },
  {
   "cell_type": "code",
   "execution_count": null,
   "metadata": {
    "execution": {
     "iopub.execute_input": "2025-06-28T11:16:41.395592Z",
     "iopub.status.busy": "2025-06-28T11:16:41.395385Z",
     "iopub.status.idle": "2025-06-28T11:16:41.887936Z",
     "shell.execute_reply": "2025-06-28T11:16:41.887363Z",
     "shell.execute_reply.started": "2025-06-28T11:16:41.395577Z"
    },
    "id": "gzPHA9vJ_Hv-",
    "trusted": true
   },
   "outputs": [],
   "source": [
    "valid_data = ds['validation'].select(range(128)).filter(filter_queries_by_length)"
   ]
  },
  {
   "cell_type": "code",
   "execution_count": null,
   "metadata": {
    "execution": {
     "iopub.execute_input": "2025-06-28T11:16:41.889175Z",
     "iopub.status.busy": "2025-06-28T11:16:41.888928Z",
     "iopub.status.idle": "2025-06-28T11:16:45.949624Z",
     "shell.execute_reply": "2025-06-28T11:16:45.948742Z",
     "shell.execute_reply.started": "2025-06-28T11:16:41.889158Z"
    },
    "id": "UF6DHuu3_hZg",
    "trusted": true
   },
   "outputs": [],
   "source": [
    "test_data = ds['test'].select(range(1024)).filter(filter_queries_by_length)"
   ]
  },
  {
   "cell_type": "code",
   "execution_count": null,
   "metadata": {
    "colab": {
     "base_uri": "https://localhost:8080/"
    },
    "execution": {
     "iopub.execute_input": "2025-06-28T11:16:45.951205Z",
     "iopub.status.busy": "2025-06-28T11:16:45.951014Z",
     "iopub.status.idle": "2025-06-28T11:16:45.955689Z",
     "shell.execute_reply": "2025-06-28T11:16:45.955066Z",
     "shell.execute_reply.started": "2025-06-28T11:16:45.951191Z"
    },
    "id": "VuVnypIEDMXh",
    "outputId": "0b7efe5a-5138-4847-ef59-37eea36c677e",
    "trusted": true
   },
   "outputs": [],
   "source": [
    "train_data, valid_data"
   ]
  },
  {
   "cell_type": "code",
   "execution_count": null,
   "metadata": {
    "execution": {
     "iopub.execute_input": "2025-06-28T11:17:15.069852Z",
     "iopub.status.busy": "2025-06-28T11:17:15.069134Z",
     "iopub.status.idle": "2025-06-28T11:17:15.110314Z",
     "shell.execute_reply": "2025-06-28T11:17:15.109597Z",
     "shell.execute_reply.started": "2025-06-28T11:17:15.069799Z"
    },
    "id": "YyjeYlg4_pKs",
    "trusted": true
   },
   "outputs": [],
   "source": [
    "training_args = TrainingArguments(\n",
    "    output_dir=\"./results\",\n",
    "    per_device_train_batch_size=2,\n",
    "    per_device_eval_batch_size=8,\n",
    "    gradient_accumulation_steps=4,\n",
    "    num_train_epochs=3,\n",
    "    learning_rate=3e-5,\n",
    "    lr_scheduler_type=\"cosine\",\n",
    "    warmup_ratio=0.1,\n",
    "    weight_decay=0.0001,\n",
    "    optim=\"adamw_torch\",\n",
    "    eval_strategy=\"steps\",\n",
    "    save_total_limit=3,\n",
    "    eval_steps=100,\n",
    "    save_steps=100,\n",
    "    logging_steps=100,\n",
    "    report_to=\"none\",\n",
    "    load_best_model_at_end=True,\n",
    "    fp16=True,\n",
    "    push_to_hub=True,\n",
    "    hub_model_id=\"khairi/SmolLM-Vit-CAD\",\n",
    "    remove_unused_columns=False,\n",
    ")"
   ]
  },
  {
   "cell_type": "code",
   "execution_count": null,
   "metadata": {
    "execution": {
     "iopub.execute_input": "2025-06-28T11:17:15.301647Z",
     "iopub.status.busy": "2025-06-28T11:17:15.301270Z",
     "iopub.status.idle": "2025-06-28T11:17:15.309329Z",
     "shell.execute_reply": "2025-06-28T11:17:15.308295Z",
     "shell.execute_reply.started": "2025-06-28T11:17:15.301616Z"
    },
    "id": "mXx3wKsTCAPo",
    "trusted": true
   },
   "outputs": [],
   "source": [
    "\n",
    "def collate_fn(batch):    \n",
    "    images = [e['image'] for e in batch]\n",
    "    inputs = [e['cadquery'] for e in batch]\n",
    "\n",
    "    image_features = image_processor.preprocess(images, return_tensors=\"pt\")\n",
    "    inputs = tokenizer(inputs, return_tensors=\"pt\", padding='max_length', max_length=2048)\n",
    "    inputs['labels'] = inputs['input_ids'].clone()\n",
    "    inputs['decoder_attention_mask'] = inputs['attention_mask'].clone()\n",
    "    inputs['decoder_input_ids'] = inputs['input_ids'].clone()\n",
    "    inputs.pop('attention_mask')\n",
    "    inputs.pop('input_ids')\n",
    "    return {**image_features, **inputs}"
   ]
  },
  {
   "cell_type": "code",
   "execution_count": null,
   "metadata": {
    "execution": {
     "iopub.execute_input": "2025-06-28T11:17:15.461060Z",
     "iopub.status.busy": "2025-06-28T11:17:15.460472Z",
     "iopub.status.idle": "2025-06-28T11:17:15.559033Z",
     "shell.execute_reply": "2025-06-28T11:17:15.558364Z",
     "shell.execute_reply.started": "2025-06-28T11:17:15.461038Z"
    },
    "id": "OcC0g0L7_srm",
    "trusted": true
   },
   "outputs": [],
   "source": [
    "trainer = Trainer(\n",
    "    model=model,\n",
    "    args=training_args,\n",
    "    data_collator=collate_fn,\n",
    "    train_dataset=train_data,\n",
    "    eval_dataset=valid_data\n",
    ")"
   ]
  },
  {
   "cell_type": "code",
   "execution_count": null,
   "metadata": {
    "execution": {
     "iopub.execute_input": "2025-06-28T11:17:18.741218Z",
     "iopub.status.busy": "2025-06-28T11:17:18.740733Z"
    },
    "id": "wUyc5mUECGcD",
    "trusted": true
   },
   "outputs": [],
   "source": [
    "trainer.train()"
   ]
  },
  {
   "cell_type": "code",
   "execution_count": null,
   "metadata": {
    "id": "wSxep__bEJmd",
    "trusted": true
   },
   "outputs": [],
   "source": []
  },
  {
   "cell_type": "code",
   "execution_count": null,
   "metadata": {
    "trusted": true
   },
   "outputs": [],
   "source": []
  }
 ],
 "metadata": {
  "colab": {
   "provenance": []
  },
  "kaggle": {
   "accelerator": "nvidiaTeslaT4",
   "dataSources": [],
   "dockerImageVersionId": 31041,
   "isGpuEnabled": true,
   "isInternetEnabled": true,
   "language": "python",
   "sourceType": "notebook"
  },
  "kernelspec": {
   "display_name": "Python 3",
   "language": "python",
   "name": "python3"
  },
  "language_info": {
   "codemirror_mode": {
    "name": "ipython",
    "version": 3
   },
   "file_extension": ".py",
   "mimetype": "text/x-python",
   "name": "python",
   "nbconvert_exporter": "python",
   "pygments_lexer": "ipython3",
   "version": "3.11.11"
  }
 },
 "nbformat": 4,
 "nbformat_minor": 4
}
